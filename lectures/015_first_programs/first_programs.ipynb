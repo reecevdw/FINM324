{
 "cells": [
  {
   "cell_type": "code",
   "execution_count": 1,
   "metadata": {},
   "outputs": [
    {
     "name": "stdout",
     "output_type": "stream",
     "text": [
      "\u001b[1;32m2\u001b[0m\u001b[1;32m channel Terms of Service accepted\u001b[0m\n",
      "Retrieving notices: done\n",
      "Channels:\n",
      " - conda-forge\n",
      " - defaults\n",
      "Platform: osx-arm64\n",
      "Collecting package metadata (repodata.json): done\n",
      "Solving environment: failed\n",
      "\n",
      "LibMambaUnsatisfiableError: Encountered problems while solving:\n",
      "  - package rise-5.7.1-py310hbe9552e_4 requires python >=3.10,<3.11.0a0 *_cpython, but none of the providers can be installed\n",
      "\n",
      "Could not solve for environment specs\n",
      "The following packages are incompatible\n",
      "├─ \u001b[32mpin on python 3.13.* =* *\u001b[0m is installable and it requires\n",
      "│  └─ \u001b[32mpython =3.13 *\u001b[0m, which can be installed;\n",
      "└─ \u001b[31mrise =* *\u001b[0m is not installable because there are no viable options\n",
      "   ├─ \u001b[31mrise 5.7.1\u001b[0m would require\n",
      "   │  └─ \u001b[31mpython >=3.10,<3.11.0a0 *_cpython\u001b[0m, which conflicts with any installable versions previously reported;\n",
      "   ├─ \u001b[31mrise 5.7.1\u001b[0m would require\n",
      "   │  └─ \u001b[31mpython >=3.11,<3.12.0a0 *_cpython\u001b[0m, which conflicts with any installable versions previously reported;\n",
      "   ├─ \u001b[31mrise 5.7.1\u001b[0m would require\n",
      "   │  └─ \u001b[31mpython >=3.12,<3.13.0a0 *_cpython\u001b[0m, which conflicts with any installable versions previously reported;\n",
      "   ├─ \u001b[31mrise 5.7.1\u001b[0m would require\n",
      "   │  └─ \u001b[31mpython >=3.8,<3.9.0a0 *\u001b[0m, which conflicts with any installable versions previously reported;\n",
      "   ├─ \u001b[31mrise 5.7.1\u001b[0m would require\n",
      "   │  └─ \u001b[31mpython >=3.8,<3.9.0a0 *_cpython\u001b[0m, which conflicts with any installable versions previously reported;\n",
      "   ├─ \u001b[31mrise 5.7.1\u001b[0m would require\n",
      "   │  └─ \u001b[31mpython >=3.9,<3.10.0a0 *\u001b[0m, which conflicts with any installable versions previously reported;\n",
      "   └─ \u001b[31mrise 5.7.1\u001b[0m would require\n",
      "      └─ \u001b[31mpython >=3.9,<3.10.0a0 *_cpython\u001b[0m, which conflicts with any installable versions previously reported.\n",
      "\n",
      "Pins seem to be involved in the conflict. Currently pinned specs:\n",
      " - python=3.13\n",
      "\n",
      "\n",
      "\n",
      "Note: you may need to restart the kernel to use updated packages.\n"
     ]
    }
   ],
   "source": [
    "%conda install -c conda-forge rise"
   ]
  },
  {
   "cell_type": "markdown",
   "metadata": {
    "slideshow": {
     "slide_type": "slide"
    }
   },
   "source": [
    "# Basics of Programming\n",
    "## Some full examples to get started"
   ]
  },
  {
   "cell_type": "markdown",
   "metadata": {
    "slideshow": {
     "slide_type": "slide"
    }
   },
   "source": [
    "## The building blocks of a program are surprisingly small\n",
    "* Data: numbers, characters, strings, etc.\n",
    "* Functions and Operators: `+, -, abs(), sqrt(), print(), ...`\n",
    "* Conditionals: `if/else` statements\n",
    "* Loops: `for/while/...` loops which allow you to work with multiple items\n",
    "* Data structures: list of items, matrix of items, lookup dictionaries,..."
   ]
  },
  {
   "cell_type": "markdown",
   "metadata": {
    "slideshow": {
     "slide_type": "slide"
    }
   },
   "source": [
    "## Let's download a file containing Game Of Thrones data and explore it"
   ]
  },
  {
   "cell_type": "code",
   "execution_count": 2,
   "metadata": {
    "tags": []
   },
   "outputs": [],
   "source": [
    "data_file_location = \"../../datasets/deaths-in-gameofthrones/game-of-thrones-deaths-data.csv\""
   ]
  },
  {
   "cell_type": "markdown",
   "metadata": {
    "slideshow": {
     "slide_type": "slide"
    }
   },
   "source": [
    "### Sit back and get your first look at Python\n",
    "The point of this lecture is just to show you what Python looks like. Meet Python features for the first time. We will get to know their names and characteristics throughout the rest of the semester.\n",
    "\n",
    "**You are NOT expected to learn anything yet, just open your brain and let new words, concepts and sytax flow in**\n",
    "\n",
    "BTW, does everyone know Game of Thrones?"
   ]
  },
  {
   "cell_type": "code",
   "execution_count": 3,
   "metadata": {
    "slideshow": {
     "slide_type": "slide"
    },
    "tags": []
   },
   "outputs": [
    {
     "data": {
      "text/plain": [
       "['order,season,episode,character_killed,killer,method,method_cat,reason,location,allegiance,importance\\n',\n",
       " '1,1,1,Waymar Royce,White Walker,Ice sword,Blade,Unknown,Beyond the Wall,\"House Royce, Night’s Watch\",2\\n',\n",
       " '2,1,1,Gared,White Walker,Ice sword,Blade,Unknown,Beyond the Wall,Night’s Watch,2\\n',\n",
       " '3,1,1,Will,Ned Stark,Sword (Ice),Blade,Deserting the Night’s Watch,Winterfell,Night’s Watch,2\\n',\n",
       " '4,1,1,Stag,Direwolf,Direwolf teeth,Animal,Unknown,Winterfell,None,1\\n',\n",
       " '5,1,1,Direwolf,Stag,Antler,Animal,Unknown,Winterfell,None,1\\n',\n",
       " '6,1,1,Jon Arryn,Lysa Arryn,Poison,Poison,Petyr Baelish persuaded Lysa to do so for reasons unknown,King’s Landing,House Arryn,2\\n',\n",
       " '7,1,1,Dothraki man,Dothraki man,Arakh,Blade,A Dothraki wedding without at least three deaths is a dull affair,Pentos,Dothraki,1\\n',\n",
       " '8,1,2,Catspaw assassin,Summer,Direwolf teeth,Animal,Attempting to kill Bran Stark,Winterfell,None,1\\n',\n",
       " '9,1,2,Mycah,Sandor “the Hound” Clegane,Unknown (likely a sword),Unknown,Joffrey has him killed after Arya attacks Joffrey,Kingsroad,Smallfolk,3\\n']"
      ]
     },
     "execution_count": 3,
     "metadata": {},
     "output_type": "execute_result"
    }
   ],
   "source": [
    "[line for line in open(data_file_location, 'r', encoding='utf8')][:10]"
   ]
  },
  {
   "cell_type": "markdown",
   "metadata": {
    "slideshow": {
     "slide_type": "slide"
    }
   },
   "source": [
    "### Open the file and look at the contents\n",
    "Let's write very simple programs to operate on this file\n",
    "1. Count the number of lines in the file\n",
    "2. How many people did Arya kill?\n",
    "3. Find the names of everyone killed by Jamie.\n",
    "4. How many people were killed in total?"
   ]
  },
  {
   "cell_type": "markdown",
   "metadata": {
    "slideshow": {
     "slide_type": "slide"
    }
   },
   "source": [
    "## Simplified example: count the number of murders\n",
    "**Pseudo code** (not real code)\n",
    "1. Set variable `counter` equal to zero\n",
    "2. Keep going through lines of the file  \n",
    "    2a. For every new line, add 1 to `counter`\n",
    "3. When done with lines in file, show `counter` "
   ]
  },
  {
   "cell_type": "markdown",
   "metadata": {
    "slideshow": {
     "slide_type": "slide"
    }
   },
   "source": [
    "## Real python: count the number of murders"
   ]
  },
  {
   "cell_type": "code",
   "execution_count": 4,
   "metadata": {
    "slideshow": {
     "slide_type": "fragment"
    },
    "tags": []
   },
   "outputs": [
    {
     "name": "stdout",
     "output_type": "stream",
     "text": [
      "6888\n"
     ]
    }
   ],
   "source": [
    "counter = 0\n",
    "file = open(data_file_location, 'r', encoding='utf8')\n",
    "\n",
    "for line in file:\n",
    "    counter = counter + 1\n",
    "\n",
    "\n",
    "file.close()\n",
    "print(counter)"
   ]
  },
  {
   "cell_type": "markdown",
   "metadata": {
    "slideshow": {
     "slide_type": "fragment"
    }
   },
   "source": [
    "* Use `with open(file_name) as file` in the future\n",
    "* Notice the indentation\n",
    "* Notice that we have to close the file (real-world python has a solution for this)\n",
    "* Notice the loop\n",
    "* Find function calls\n",
    "* Find variables\n",
    "* What are types and scopes of variables?"
   ]
  },
  {
   "cell_type": "markdown",
   "metadata": {},
   "source": [
    "#### Python provides a way to avoid having to `close` files"
   ]
  },
  {
   "cell_type": "code",
   "execution_count": 5,
   "metadata": {},
   "outputs": [
    {
     "name": "stdout",
     "output_type": "stream",
     "text": [
      "6888\n"
     ]
    }
   ],
   "source": [
    "counter = 0\n",
    "\n",
    "with open(data_file_location, 'r', encoding='utf8') as file:\n",
    "    for line in file:\n",
    "        counter = counter + 1\n",
    "\n",
    "print(counter)"
   ]
  },
  {
   "cell_type": "markdown",
   "metadata": {
    "slideshow": {
     "slide_type": "slide"
    }
   },
   "source": [
    "## Interesting dataset, let's see what it looks like"
   ]
  },
  {
   "cell_type": "code",
   "execution_count": 6,
   "metadata": {
    "slideshow": {
     "slide_type": "fragment"
    },
    "tags": []
   },
   "outputs": [
    {
     "data": {
      "text/plain": [
       "['order,season,episode,character_killed,killer,method,method_cat,reason,location,allegiance,importance\\n',\n",
       " '1,1,1,Waymar Royce,White Walker,Ice sword,Blade,Unknown,Beyond the Wall,\"House Royce, Night’s Watch\",2\\n',\n",
       " '2,1,1,Gared,White Walker,Ice sword,Blade,Unknown,Beyond the Wall,Night’s Watch,2\\n',\n",
       " '3,1,1,Will,Ned Stark,Sword (Ice),Blade,Deserting the Night’s Watch,Winterfell,Night’s Watch,2\\n',\n",
       " '4,1,1,Stag,Direwolf,Direwolf teeth,Animal,Unknown,Winterfell,None,1\\n']"
      ]
     },
     "execution_count": 6,
     "metadata": {},
     "output_type": "execute_result"
    }
   ],
   "source": [
    "list(open(data_file_location, 'r', encoding='utf8'))[:5]"
   ]
  },
  {
   "cell_type": "code",
   "execution_count": 7,
   "metadata": {
    "slideshow": {
     "slide_type": "fragment"
    },
    "tags": []
   },
   "outputs": [
    {
     "data": {
      "text/html": [
       "<div>\n",
       "<style scoped>\n",
       "    .dataframe tbody tr th:only-of-type {\n",
       "        vertical-align: middle;\n",
       "    }\n",
       "\n",
       "    .dataframe tbody tr th {\n",
       "        vertical-align: top;\n",
       "    }\n",
       "\n",
       "    .dataframe thead th {\n",
       "        text-align: right;\n",
       "    }\n",
       "</style>\n",
       "<table border=\"1\" class=\"dataframe\">\n",
       "  <thead>\n",
       "    <tr style=\"text-align: right;\">\n",
       "      <th></th>\n",
       "      <th>order</th>\n",
       "      <th>season</th>\n",
       "      <th>episode</th>\n",
       "      <th>character_killed</th>\n",
       "      <th>killer</th>\n",
       "      <th>method</th>\n",
       "      <th>method_cat</th>\n",
       "      <th>reason</th>\n",
       "      <th>location</th>\n",
       "      <th>allegiance</th>\n",
       "      <th>importance</th>\n",
       "    </tr>\n",
       "  </thead>\n",
       "  <tbody>\n",
       "    <tr>\n",
       "      <th>0</th>\n",
       "      <td>1</td>\n",
       "      <td>1</td>\n",
       "      <td>1</td>\n",
       "      <td>Waymar Royce</td>\n",
       "      <td>White Walker</td>\n",
       "      <td>Ice sword</td>\n",
       "      <td>Blade</td>\n",
       "      <td>Unknown</td>\n",
       "      <td>Beyond the Wall</td>\n",
       "      <td>House Royce, Night’s Watch</td>\n",
       "      <td>2.0</td>\n",
       "    </tr>\n",
       "    <tr>\n",
       "      <th>1</th>\n",
       "      <td>2</td>\n",
       "      <td>1</td>\n",
       "      <td>1</td>\n",
       "      <td>Gared</td>\n",
       "      <td>White Walker</td>\n",
       "      <td>Ice sword</td>\n",
       "      <td>Blade</td>\n",
       "      <td>Unknown</td>\n",
       "      <td>Beyond the Wall</td>\n",
       "      <td>Night’s Watch</td>\n",
       "      <td>2.0</td>\n",
       "    </tr>\n",
       "    <tr>\n",
       "      <th>2</th>\n",
       "      <td>3</td>\n",
       "      <td>1</td>\n",
       "      <td>1</td>\n",
       "      <td>Will</td>\n",
       "      <td>Ned Stark</td>\n",
       "      <td>Sword (Ice)</td>\n",
       "      <td>Blade</td>\n",
       "      <td>Deserting the Night’s Watch</td>\n",
       "      <td>Winterfell</td>\n",
       "      <td>Night’s Watch</td>\n",
       "      <td>2.0</td>\n",
       "    </tr>\n",
       "    <tr>\n",
       "      <th>3</th>\n",
       "      <td>4</td>\n",
       "      <td>1</td>\n",
       "      <td>1</td>\n",
       "      <td>Stag</td>\n",
       "      <td>Direwolf</td>\n",
       "      <td>Direwolf teeth</td>\n",
       "      <td>Animal</td>\n",
       "      <td>Unknown</td>\n",
       "      <td>Winterfell</td>\n",
       "      <td>NaN</td>\n",
       "      <td>1.0</td>\n",
       "    </tr>\n",
       "    <tr>\n",
       "      <th>4</th>\n",
       "      <td>5</td>\n",
       "      <td>1</td>\n",
       "      <td>1</td>\n",
       "      <td>Direwolf</td>\n",
       "      <td>Stag</td>\n",
       "      <td>Antler</td>\n",
       "      <td>Animal</td>\n",
       "      <td>Unknown</td>\n",
       "      <td>Winterfell</td>\n",
       "      <td>NaN</td>\n",
       "      <td>1.0</td>\n",
       "    </tr>\n",
       "  </tbody>\n",
       "</table>\n",
       "</div>"
      ],
      "text/plain": [
       "   order  season  episode character_killed        killer          method  \\\n",
       "0      1       1        1     Waymar Royce  White Walker       Ice sword   \n",
       "1      2       1        1            Gared  White Walker       Ice sword   \n",
       "2      3       1        1             Will     Ned Stark     Sword (Ice)   \n",
       "3      4       1        1             Stag      Direwolf  Direwolf teeth   \n",
       "4      5       1        1         Direwolf          Stag          Antler   \n",
       "\n",
       "  method_cat                       reason         location  \\\n",
       "0      Blade                      Unknown  Beyond the Wall   \n",
       "1      Blade                      Unknown  Beyond the Wall   \n",
       "2      Blade  Deserting the Night’s Watch       Winterfell   \n",
       "3     Animal                      Unknown       Winterfell   \n",
       "4     Animal                      Unknown       Winterfell   \n",
       "\n",
       "                   allegiance  importance  \n",
       "0  House Royce, Night’s Watch         2.0  \n",
       "1               Night’s Watch         2.0  \n",
       "2               Night’s Watch         2.0  \n",
       "3                         NaN         1.0  \n",
       "4                         NaN         1.0  "
      ]
     },
     "execution_count": 7,
     "metadata": {},
     "output_type": "execute_result"
    }
   ],
   "source": [
    "#Sneak peek at DS specific library\n",
    "import pandas as pd\n",
    "pd.read_csv(data_file_location).head()"
   ]
  },
  {
   "cell_type": "markdown",
   "metadata": {
    "slideshow": {
     "slide_type": "fragment"
    }
   },
   "source": [
    "https://github.com/washingtonpost/data-game-of-thrones-deaths"
   ]
  },
  {
   "cell_type": "markdown",
   "metadata": {
    "slideshow": {
     "slide_type": "slide"
    }
   },
   "source": [
    "## How many people did Arya Stark and Jon Snow kill? **Pseudo code**\n",
    "1. Set variable `jon` equal to zero\n",
    "2. Set variable `arya` equal to zero\n",
    "\n",
    "3. Keep going through lines of the file  \n",
    "    3a. For every new line, `split` at commas  \n",
    "    3b. If 4th column is \"Arya Stark\" then add 1 to variable `arya`  \n",
    "    3c. If 4th column is \"Jon Snow\" then add 1 to variable `jon`\n",
    "4. When done with lines in file, show `arya` and `jon` "
   ]
  },
  {
   "cell_type": "markdown",
   "metadata": {
    "slideshow": {
     "slide_type": "slide"
    }
   },
   "source": [
    "## How many people did Arya Stark and Jon Snow kill? **Real code**"
   ]
  },
  {
   "cell_type": "code",
   "execution_count": 8,
   "metadata": {
    "slideshow": {
     "slide_type": "fragment"
    },
    "tags": []
   },
   "outputs": [
    {
     "name": "stdout",
     "output_type": "stream",
     "text": [
      "Arya killed 1278 people\n",
      "Jon killed 112 people\n"
     ]
    }
   ],
   "source": [
    "jon  = 0 # variable containing Jon's score\n",
    "arya = 0 # variable containing Arya's score\n",
    "\n",
    "with open(data_file_location, 'r', encoding='utf8') as file:\n",
    "    #Go through each line in file\n",
    "    for line in file:\n",
    "      columns = line.split(',') #separate line into columns\n",
    "      if columns[4] == \"Arya Stark\": arya = arya + 1\n",
    "      if columns[4] == \"Jon Snow\": \n",
    "        jon = jon + 1\n",
    "\n",
    "print(\"Arya killed\", arya, \"people\")\n",
    "print(\"Jon killed\", jon, \"people\")\n"
   ]
  },
  {
   "cell_type": "code",
   "execution_count": 9,
   "metadata": {},
   "outputs": [
    {
     "data": {
      "text/plain": [
       "'6887,8,6,Daenerys Targaryen,Jon Snow,Knife,Blade,Stabbed in the stomach by Jon Snow after she “went mad” and burned down King’s Landing,King’s Landing,House Targaryen,4'"
      ]
     },
     "execution_count": 9,
     "metadata": {},
     "output_type": "execute_result"
    }
   ],
   "source": [
    "line"
   ]
  },
  {
   "cell_type": "code",
   "execution_count": 10,
   "metadata": {
    "pycharm": {
     "name": "#%%\n"
    }
   },
   "outputs": [
    {
     "data": {
      "text/plain": [
       "['6887',\n",
       " '8',\n",
       " '6',\n",
       " 'Daenerys Targaryen',\n",
       " 'Jon Snow',\n",
       " 'Knife',\n",
       " 'Blade',\n",
       " 'Stabbed in the stomach by Jon Snow after she “went mad” and burned down King’s Landing',\n",
       " 'King’s Landing',\n",
       " 'House Targaryen',\n",
       " '4']"
      ]
     },
     "execution_count": 10,
     "metadata": {},
     "output_type": "execute_result"
    }
   ],
   "source": [
    "line.split(',')"
   ]
  },
  {
   "cell_type": "code",
   "execution_count": 11,
   "metadata": {},
   "outputs": [
    {
     "data": {
      "text/plain": [
       "'Jon Snow'"
      ]
     },
     "execution_count": 11,
     "metadata": {},
     "output_type": "execute_result"
    }
   ],
   "source": [
    "line.split(',')[4]"
   ]
  },
  {
   "cell_type": "code",
   "execution_count": 12,
   "metadata": {
    "slideshow": {
     "slide_type": "fragment"
    },
    "tags": []
   },
   "outputs": [
    {
     "data": {
      "text/plain": [
       "killer\n",
       "Arya Stark    1278\n",
       "Jon Snow       112\n",
       "Name: count, dtype: int64"
      ]
     },
     "execution_count": 12,
     "metadata": {},
     "output_type": "execute_result"
    }
   ],
   "source": [
    "#Sneak peak at \"Python For Analytics\" -- more declarative\n",
    "data_df = pd.read_csv(data_file_location)\n",
    "data_df[data_df.killer.isin([\"Arya Stark\", \"Jon Snow\"])].killer.value_counts()"
   ]
  },
  {
   "cell_type": "markdown",
   "metadata": {
    "slideshow": {
     "slide_type": "fragment"
    }
   },
   "source": [
    "* Use with open(file_name) as file\n",
    "* Notice that we are accessing the 4th item by using the index 3\n",
    "* Notice that the if statements can be 1 or 2 lines\n",
    "* Find function calls\n",
    "* Find variables\n",
    "* What are the types and scopes of variables"
   ]
  },
  {
   "cell_type": "markdown",
   "metadata": {
    "slideshow": {
     "slide_type": "slide"
    }
   },
   "source": [
    "## Who did Jaime Lannister kill: **Pseudo code**\n",
    "1. Create an empty list which will hold the names of people Jaime killed\n",
    "\n",
    "3. Keep going through lines of the file  \n",
    "    3a. For every new line, `split` at commas  \n",
    "    3b. If 4th column is \"Jaime Lannister\" then add get the name of the person killed from the 3rd column and add it to the list\n",
    "4. When done with lines in file, show the list of people killed by Jaime "
   ]
  },
  {
   "cell_type": "markdown",
   "metadata": {
    "slideshow": {
     "slide_type": "slide"
    }
   },
   "source": [
    "## Who did Jaime Lannister kill: **Real code**"
   ]
  },
  {
   "cell_type": "code",
   "execution_count": 13,
   "metadata": {
    "slideshow": {
     "slide_type": "fragment"
    },
    "tags": []
   },
   "outputs": [
    {
     "name": "stdout",
     "output_type": "stream",
     "text": [
      "['Jory Cassel', 'Alton Lannister', 'Torrhen Karstark', 'Martell soldier', 'Aerys II Targaryen', 'Olenna Tyrell', 'Dothraki rider', 'Dothraki rider', 'Dothraki rider', 'Dothraki rider', 'Wight', 'Wight', 'Wight', 'Wight', 'Wight', 'Wight', 'Wight', 'Wight', 'Wight', 'Wight', 'Wight', 'Wight', 'Euron Greyjoy']\n"
     ]
    }
   ],
   "source": [
    "killed = list() # list data structure\n",
    "\n",
    "with open(data_file_location, 'r', encoding='utf8') as file:\n",
    "    for line in file:\n",
    "      tokens = line.split(',')\n",
    "      if tokens[4] == \"Jaime Lannister\":\n",
    "        name_of_killed = tokens[3]\n",
    "        killed.append(name_of_killed)\n",
    "\n",
    "print(killed)"
   ]
  },
  {
   "cell_type": "code",
   "execution_count": 14,
   "metadata": {
    "slideshow": {
     "slide_type": "fragment"
    },
    "tags": []
   },
   "outputs": [
    {
     "name": "stdout",
     "output_type": "stream",
     "text": [
      "['Jory Cassel', 'Alton Lannister', 'Torrhen Karstark', 'Martell soldier', 'Aerys II Targaryen', 'Olenna Tyrell', 'Dothraki rider', 'Dothraki rider', 'Dothraki rider', 'Dothraki rider', 'Wight', 'Wight', 'Wight', 'Wight', 'Wight', 'Wight', 'Wight', 'Wight', 'Wight', 'Wight', 'Wight', 'Wight', 'Euron Greyjoy']\n"
     ]
    }
   ],
   "source": [
    "#Sneak peak at \"Python For Analytics\" -- more declarative\n",
    "data_df = pd.read_csv(data_file_location)\n",
    "print(list(data_df[data_df.killer == 'Jaime Lannister'].character_killed))"
   ]
  },
  {
   "cell_type": "markdown",
   "metadata": {
    "slideshow": {
     "slide_type": "fragment"
    }
   },
   "source": [
    "* Use with open(file_name) as file\n",
    "* Use variables, instead of tokens with hard coded numbers\n",
    "* How many people did he kill? (len)\n",
    "* Who was the first, last person he killed? (killed[0], killed[-1])\n",
    "* Who were the first three people he killed? (killed[0:3])"
   ]
  },
  {
   "cell_type": "markdown",
   "metadata": {
    "slideshow": {
     "slide_type": "slide"
    }
   },
   "source": [
    "## Final example: How many people did _any one_ kill? **Pseudo code**\n",
    "1. create an empty dictionary which will hold look-up keys and values\n",
    "\n",
    "3. Keep going through lines of the file\n",
    "\n",
    "    3a. For every new line, `split` at commas\n",
    "    \n",
    "    3b. look up the killer's name in column 4 and add 1 to the value\n",
    "\n",
    "4. When done with lines in file, show the contents of the dictionary"
   ]
  },
  {
   "cell_type": "code",
   "execution_count": null,
   "metadata": {},
   "outputs": [],
   "source": []
  },
  {
   "cell_type": "markdown",
   "metadata": {
    "slideshow": {
     "slide_type": "slide"
    }
   },
   "source": [
    "## How many people did _any one_ kill? **Real code**"
   ]
  },
  {
   "cell_type": "code",
   "execution_count": 15,
   "metadata": {
    "slideshow": {
     "slide_type": "fragment"
    },
    "tags": []
   },
   "outputs": [
    {
     "data": {
      "text/plain": [
       "{'killer': 1,\n",
       " 'White Walker': 5,\n",
       " 'Ned Stark': 5,\n",
       " 'Direwolf': 1,\n",
       " 'Stag': 1,\n",
       " 'Lysa Arryn': 1,\n",
       " 'Dothraki man': 1,\n",
       " 'Summer': 5,\n",
       " 'Sandor “the Hound” Clegane': 59,\n",
       " 'Gregor “the Mountain” Clegane': 10,\n",
       " 'Tribesman': 2,\n",
       " 'Bronn': 27,\n",
       " 'Tyrion Lannister': 5,\n",
       " 'Rodrik Cassel': 2,\n",
       " 'Lannister soldier': 32,\n",
       " 'Jory Cassel': 3,\n",
       " 'Jaime Lannister': 23,\n",
       " 'Robb Stark': 3,\n",
       " 'Theon Greyjoy': 33,\n",
       " 'Khal Drogo': 2,\n",
       " 'Boar': 1,\n",
       " 'City watch guard': 6,\n",
       " 'Meryn Trant': 1,\n",
       " 'Arya Stark': 1278,\n",
       " 'Jon Snow': 112,\n",
       " 'Night’s Watch brother': 41,\n",
       " 'Mirri Maz Duur': 2,\n",
       " 'Jorah Mormont': 65,\n",
       " 'Hill tribesman': 2,\n",
       " 'Ilyn Payne': 1,\n",
       " 'Daenerys Targaryen': 24,\n",
       " 'None': 477,\n",
       " 'Melisandre “the Red Woman” of Asshai': 8,\n",
       " 'Janos Slynt': 1,\n",
       " 'Unknown (possible rival Dothraki men)': 1,\n",
       " 'Yoren': 5,\n",
       " 'Amory Lorch': 1,\n",
       " 'Polliver': 1,\n",
       " 'Grey Wind': 2,\n",
       " 'The Tickler': 1,\n",
       " 'Brienne of Tarth': 28,\n",
       " 'Jaqen H’ghar': 4,\n",
       " 'Qhorin Halfhand': 1,\n",
       " 'Peasants': 1,\n",
       " 'Osha': 2,\n",
       " 'Unknown': 67,\n",
       " 'Pyat Pree': 11,\n",
       " 'Accident': 1,\n",
       " 'Baratheon of King’s Landing soldier': 32,\n",
       " 'Baratheon of Dragonstone soldier': 24,\n",
       " 'Stannis Baratheon': 9,\n",
       " 'Podrick Payne': 5,\n",
       " 'Loras Tyrell': 4,\n",
       " 'Jeor Mormont': 1,\n",
       " 'Barristan Selmy': 16,\n",
       " 'Ramsay Bolton': 15,\n",
       " 'Karl Tanner': 2,\n",
       " 'Rast': 1,\n",
       " 'Unsullied': 27,\n",
       " 'Drogon': 1426,\n",
       " 'Karstark soldier': 2,\n",
       " 'Rickard Karstark': 1,\n",
       " 'Joffrey Baratheon': 1,\n",
       " 'Daario Naharis': 25,\n",
       " 'Sam Tarly': 7,\n",
       " 'Ygritte': 14,\n",
       " 'Shaggydog': 1,\n",
       " 'Grey Worm': 43,\n",
       " 'Lothar Frey': 2,\n",
       " 'Frey soldier': 27,\n",
       " 'Roose Bolton': 1,\n",
       " 'Catelyn Stark': 1,\n",
       " 'Black Walder Rivers': 1,\n",
       " 'Olenna Tyrell': 1,\n",
       " 'Baelish soldier': 1,\n",
       " 'Styr': 8,\n",
       " 'Thenn raider': 4,\n",
       " 'Tormund': 66,\n",
       " 'Meereen slaves': 1,\n",
       " 'Eddison Tollett': 3,\n",
       " 'Locke': 2,\n",
       " 'Night’s Watch mutineer': 3,\n",
       " 'Hodor/Bran Stark': 4,\n",
       " 'Grenn': 2,\n",
       " 'Ghost': 2,\n",
       " 'Yara Greyjoy': 12,\n",
       " 'Greyjoy soldier': 3,\n",
       " 'Petyr Baelish': 1,\n",
       " 'Wildling': 20,\n",
       " 'Allister Thorne': 3,\n",
       " 'Wildling giant': 2,\n",
       " 'Pypar': 1,\n",
       " 'Giant mammoth': 1,\n",
       " 'Olly': 1,\n",
       " 'Meera Reed': 6,\n",
       " 'Child of the Forest': 17,\n",
       " 'Son of the Harpy': 43,\n",
       " 'Bounty hunter': 1,\n",
       " 'Mossador': 1,\n",
       " 'Qyburn': 1,\n",
       " 'Obara Sand': 2,\n",
       " 'Rhaegal': 273,\n",
       " 'Pit fighter': 4,\n",
       " 'Magnar Loboda': 3,\n",
       " 'Wight': 1602,\n",
       " 'Karsi': 9,\n",
       " 'Wun Weg Wun Dar Wun': 31,\n",
       " 'Wight child': 1,\n",
       " 'Bolton soldier': 91,\n",
       " 'Water dancer pit fighter': 1,\n",
       " 'Meereenese champion pit fighter': 2,\n",
       " 'Selyse Baratheon': 1,\n",
       " 'Faceless man': 1,\n",
       " 'Ellaria Sand': 2,\n",
       " 'Night’s Watch brothers (final blow: Olly)': 1,\n",
       " 'Tyene Sand': 5,\n",
       " 'Euron Greyjoy': 12,\n",
       " 'Gerold Hightower': 1,\n",
       " 'Arthur Dayne': 3,\n",
       " 'Leaf': 37,\n",
       " 'Night King': 3,\n",
       " 'Benjen Stark': 23,\n",
       " 'Brotherhood Without Banners rogue': 1,\n",
       " 'Beric Dondarrion': 30,\n",
       " 'The Waif': 1,\n",
       " 'Yunkai soldier': 3,\n",
       " 'Stark soldier': 96,\n",
       " 'Horse': 8,\n",
       " 'Jon Umber': 4,\n",
       " 'Arryn soldier': 12,\n",
       " 'Sansa Stark': 1,\n",
       " 'Qyburn’s “Little Birds”': 1,\n",
       " 'Cersei Lannister': 199,\n",
       " 'Tommen Baratheon': 1,\n",
       " \"Sally's father\": 1,\n",
       " 'Himself': 1,\n",
       " 'Greyjoy (Euron-aligned) soldier': 8,\n",
       " 'Nymeria Sand': 1,\n",
       " 'Dothraki rider': 47,\n",
       " 'Dickon Tarly': 1,\n",
       " 'Gendry': 9,\n",
       " 'Wight snow bear': 4,\n",
       " 'Wight hunt party member': 4,\n",
       " 'Viserion': 42,\n",
       " 'Greyjoy (Yara-aligned) soldier': 24,\n",
       " 'Theon Grejoy': 1,\n",
       " 'Stark Soldier': 2,\n",
       " 'Giant wight': 8,\n",
       " 'Lyanna Mormont': 1,\n",
       " 'Viserion (Wight)': 5}"
      ]
     },
     "execution_count": 15,
     "metadata": {},
     "output_type": "execute_result"
    }
   ],
   "source": [
    "killers = dict() # dictionary data structure\n",
    "\n",
    "with open(data_file_location, 'r', encoding='utf8') as file:\n",
    "    for line in file:\n",
    "      tokens = line.split(',')\n",
    "      if tokens[4] in killers: kill_count = killers[tokens[4]]\n",
    "      else: kill_count = 0\n",
    "      kill_count = kill_count + 1\n",
    "      killers[tokens[4]] = kill_count\n",
    "\n",
    "killers"
   ]
  },
  {
   "cell_type": "code",
   "execution_count": 16,
   "metadata": {
    "tags": []
   },
   "outputs": [
    {
     "data": {
      "text/plain": [
       "killer\n",
       "Wight                                    1602\n",
       "Drogon                                   1426\n",
       "Arya Stark                               1278\n",
       "Rhaegal                                   273\n",
       "Cersei Lannister                          199\n",
       "                                         ... \n",
       "Gerold Hightower                            1\n",
       "Peasants                                    1\n",
       "Meryn Trant                                 1\n",
       "The Tickler                                 1\n",
       "Unknown (possible rival Dothraki men)       1\n",
       "Name: count, Length: 148, dtype: int64"
      ]
     },
     "execution_count": 16,
     "metadata": {},
     "output_type": "execute_result"
    }
   ],
   "source": [
    "#Sneak peak at \"Python For Analytics\" -- more declarative\n",
    "data_df = pd.read_csv(data_file_location)\n",
    "data_df.killer.value_counts()"
   ]
  },
  {
   "cell_type": "markdown",
   "metadata": {},
   "source": [
    "# Create a new file, containing names of all the killers"
   ]
  },
  {
   "cell_type": "code",
   "execution_count": 17,
   "metadata": {},
   "outputs": [],
   "source": [
    "killers = set() # set data structure\n",
    "\n",
    "output_file_location = \"../../datasets/deaths-in-gameofthrones/killers.csv\"\n",
    "\n",
    "with open(data_file_location, 'r', encoding='utf8') as input_file, open(output_file_location, 'w', encoding='utf8') as output_file:\n",
    "    for line in input_file:\n",
    "      tokens = line.split(',')\n",
    "      killer = tokens[4]\n",
    "      output_file.write(killer + '\\n') # notice that we have to explicitely write '\\n' for new lines\n"
   ]
  },
  {
   "cell_type": "code",
   "execution_count": 18,
   "metadata": {},
   "outputs": [],
   "source": [
    "data_df = pd.read_csv(data_file_location)\n",
    "data_df[['killer']].drop_duplicates().sort_values('killer').to_csv('../../datasets/deaths-in-gameofthrones/killers_pd.csv', index=False)"
   ]
  },
  {
   "cell_type": "markdown",
   "metadata": {
    "slideshow": {
     "slide_type": "fragment"
    }
   },
   "source": [
    "Improve this:\n",
    "1. Assign tokens[4] to a variable\n",
    "2. Use += to increment\n",
    "3. Use get(key, default) (mention defaultdict(int))\n",
    "4. use killers.items() in a for loop for better formatting\n",
    "5. Notice that \"killer\" is actually a column heading!\n",
    "6. Use `with open(file_name) as file`\n",
    "\n",
    "7. How many did Jaime kill again?\n",
    "8. How many killers are there?\n",
    "9. How many dead are there?\n",
    "10. Who killed most people?\n"
   ]
  },
  {
   "cell_type": "markdown",
   "metadata": {},
   "source": [
    "Reference:\n",
    "Deaths in Game of Thrones: https://data.world/makeovermonday/2019w27"
   ]
  },
  {
   "cell_type": "code",
   "execution_count": null,
   "metadata": {},
   "outputs": [],
   "source": []
  }
 ],
 "metadata": {
  "celltoolbar": "Visualize",
  "kernelspec": {
   "display_name": "Python (finm32500)",
   "language": "python",
   "name": "finm32500"
  },
  "language_info": {
   "codemirror_mode": {
    "name": "ipython",
    "version": 3
   },
   "file_extension": ".py",
   "mimetype": "text/x-python",
   "name": "python",
   "nbconvert_exporter": "python",
   "pygments_lexer": "ipython3",
   "version": "3.13.7"
  },
  "vscode": {
   "interpreter": {
    "hash": "108a1df64039728e69f178110a6e255a10aba8514903b770571642a02940d2ba"
   }
  }
 },
 "nbformat": 4,
 "nbformat_minor": 4
}
